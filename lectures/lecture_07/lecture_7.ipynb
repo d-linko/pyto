{
 "cells": [
  {
   "cell_type": "markdown",
   "metadata": {},
   "source": [
    "# Class 7: Data Applications (Continued)"
   ]
  },
  {
   "cell_type": "markdown",
   "metadata": {},
   "source": [
    "Here, we take a different source of data (same satellite) and look at a different field of study or application."
   ]
  },
  {
   "cell_type": "markdown",
   "metadata": {},
   "source": [
    "### 7.1 Semester-Long Project\n",
    "\n",
    "Remember that we have used DISCVR's solar wind products to develop a \"monitor\" plot of the data that allows us to see when certain events occur. Now, we will use a different instrument from DISCVR to see an Earth Science application."
   ]
  },
  {
   "cell_type": "markdown",
   "metadata": {},
   "source": [
    "### 7.1.1 Goal: Obtain Data\n",
    "\n",
    "---\n",
    "\n",
    "1. Obtain cloud data for the period of the eclipse in 2017 where DISCOVR imagery showed the shadow of the moon on the face of the Earth."
   ]
  },
  {
   "cell_type": "markdown",
   "metadata": {},
   "source": [
    "### 7.1.1-aside\n",
    "\n",
    "__Note:__ We will be using three new packages: `xarray`, `netCDF4`, and `cartopy` that do not come bundled in Anaconda."
   ]
  },
  {
   "cell_type": "code",
   "execution_count": null,
   "metadata": {},
   "outputs": [],
   "source": [
    "# Install a conda package in the current Jupyter kernal\n",
    "import sys\n",
    "!conda install --yes --prefix {sys.prefix} xarray netCDF4 cartopy"
   ]
  },
  {
   "cell_type": "markdown",
   "metadata": {},
   "source": [
    "If this doesn't work, I recommend quitting the current Jupyter session and running the following from the command line (within the Anaconda environment):\n",
    "\n",
    "``conda install xarray netCDF4 cartopy``\n",
    "\n",
    "and follow the prompts to install it.  \n",
    "\n",
    "Reference: [Link](http://jakevdp.github.io/blog/2017/12/05/installing-python-packages-from-jupyter/)"
   ]
  },
  {
   "cell_type": "markdown",
   "metadata": {},
   "source": [
    " "
   ]
  },
  {
   "cell_type": "markdown",
   "metadata": {},
   "source": [
    " "
   ]
  },
  {
   "cell_type": "markdown",
   "metadata": {},
   "source": [
    "Continuing to download the data."
   ]
  },
  {
   "cell_type": "code",
   "execution_count": null,
   "metadata": {},
   "outputs": [],
   "source": [
    "import xarray as xr\n",
    "%matplotlib inline\n",
    "\n",
    "data = xr.open_dataset(\n",
    "    'https://opendap.larc.nasa.gov:443/opendap/DSCOVR/EPIC/AER/2017/08/DSCOVR_EPIC_L2_AER_01_20170821174450_02.he5'\n",
    ")"
   ]
  },
  {
   "cell_type": "markdown",
   "metadata": {},
   "source": [
    "What this has done, is go to an OpenDAP webserver and referenced the data file found there. Most of the time, Earth scientists work with common data types of ASCII, binary or hierarchical data types like HDF or netCDF. Here, this is a HDF EOS-type file that is like a normal HDF file, but it contains EOS standards. Let's see the structure of this data."
   ]
  },
  {
   "cell_type": "code",
   "execution_count": null,
   "metadata": {
    "scrolled": true
   },
   "outputs": [],
   "source": [
    "data"
   ]
  },
  {
   "cell_type": "markdown",
   "metadata": {},
   "source": [
    "We notice that the data has variables, but with xarray, it automatically detects certain coordinates such as latitude, longitude and time. We can physically grab the data using xarray/pandas (pandas is a great package built on top of NumPy) through the `load` function. Here, let's download the Cloud Optical Depth data."
   ]
  },
  {
   "cell_type": "markdown",
   "metadata": {},
   "source": [
    "### 7.1.2 Obtain Specific Data"
   ]
  },
  {
   "cell_type": "code",
   "execution_count": null,
   "metadata": {},
   "outputs": [],
   "source": [
    "cloud_optical_depth = data['CloudOpticalDepth']\n",
    "cloud_optical_depth = cloud_optical_depth.load()\n",
    "cloud_optical_depth.shape"
   ]
  },
  {
   "cell_type": "markdown",
   "metadata": {},
   "source": [
    "Notice the difference in the kernal timing of executing that cell? That's because we are connecting to the server, downloading the file, and specifically selecting that variable data to download. Let's see quickly through xarray what this data looks like."
   ]
  },
  {
   "cell_type": "markdown",
   "metadata": {},
   "source": [
    "### 7.1.3 Visualize the Data"
   ]
  },
  {
   "cell_type": "code",
   "execution_count": null,
   "metadata": {},
   "outputs": [],
   "source": [
    "cloud_optical_depth.plot()"
   ]
  },
  {
   "cell_type": "markdown",
   "metadata": {},
   "source": [
    "Let's modify this plot so we can get a better view with a larger image."
   ]
  },
  {
   "cell_type": "code",
   "execution_count": null,
   "metadata": {},
   "outputs": [],
   "source": [
    "import matplotlib.pyplot as plt\n",
    "plt.rcParams['figure.figsize'] = [20, 10]"
   ]
  },
  {
   "cell_type": "code",
   "execution_count": null,
   "metadata": {},
   "outputs": [],
   "source": [
    "cloud_optical_depth.plot()"
   ]
  },
  {
   "cell_type": "markdown",
   "metadata": {},
   "source": [
    "Something doesn't look right here. Can you see what is wrong?"
   ]
  },
  {
   "cell_type": "markdown",
   "metadata": {},
   "source": [
    "### 7.2.1 Manipulate Data\n",
    "\n",
    "---\n",
    "\n",
    "Here, we will work with the Cloud Optical Depth data for more insight."
   ]
  },
  {
   "cell_type": "code",
   "execution_count": null,
   "metadata": {},
   "outputs": [],
   "source": [
    "cloud_optical_depth = cloud_optical_depth.transpose()"
   ]
  },
  {
   "cell_type": "code",
   "execution_count": null,
   "metadata": {},
   "outputs": [],
   "source": [
    "cloud_optical_depth.plot()"
   ]
  },
  {
   "cell_type": "markdown",
   "metadata": {},
   "source": [
    "Let's also fix those coordinates by assigning the proper values to this dataset:"
   ]
  },
  {
   "cell_type": "code",
   "execution_count": null,
   "metadata": {},
   "outputs": [],
   "source": [
    "cloud_optical_depth['XDim'] = -180 + cloud_optical_depth.XDim/len(cloud_optical_depth.XDim)*360.\n",
    "cloud_optical_depth['YDim'] = -90 + cloud_optical_depth.YDim/len(cloud_optical_depth.YDim)*180."
   ]
  },
  {
   "cell_type": "code",
   "execution_count": null,
   "metadata": {},
   "outputs": [],
   "source": [
    "cloud_optical_depth.transpose().plot(robust=True)"
   ]
  },
  {
   "cell_type": "code",
   "execution_count": null,
   "metadata": {},
   "outputs": [],
   "source": [
    "cloud_optical_depth.max()"
   ]
  },
  {
   "cell_type": "code",
   "execution_count": null,
   "metadata": {},
   "outputs": [],
   "source": [
    "cloud_optical_depth.isel(XDim=20)[500:600].to_dataframe()"
   ]
  },
  {
   "cell_type": "markdown",
   "metadata": {},
   "source": [
    "After some testing and such, here is the code to \"see\" the eclipse:"
   ]
  },
  {
   "cell_type": "code",
   "execution_count": null,
   "metadata": {},
   "outputs": [],
   "source": [
    "eclipse = []\n",
    "\n",
    "eclipse.append(xr.open_dataset(\n",
    "    'https://opendap.larc.nasa.gov:443/opendap/DSCOVR/EPIC/AER/2017/08/DSCOVR_EPIC_L2_AER_01_20170821171450_02.he5'\n",
    ")['CloudFraction'].load().transpose())\n",
    "eclipse.append(xr.open_dataset(\n",
    "    'https://opendap.larc.nasa.gov:443/opendap/DSCOVR/EPIC/AER/2017/08/DSCOVR_EPIC_L2_AER_01_20170821184450_02.he5'\n",
    ")['CloudFraction'].load().transpose())\n",
    "eclipse.append(xr.open_dataset(\n",
    "    'https://opendap.larc.nasa.gov:443/opendap/DSCOVR/EPIC/AER/2017/08/DSCOVR_EPIC_L2_AER_01_20170821191450_02.he5'\n",
    ")['CloudFraction'].load().transpose())\n",
    "eclipse.append(xr.open_dataset(\n",
    "    'https://opendap.larc.nasa.gov:443/opendap/DSCOVR/EPIC/AER/2017/08/DSCOVR_EPIC_L2_AER_01_20170821194450_02.he5'\n",
    ")['CloudFraction'].load().transpose())"
   ]
  },
  {
   "cell_type": "code",
   "execution_count": null,
   "metadata": {},
   "outputs": [],
   "source": [
    "fig, axes = plt.subplots(ncols=4)\n",
    "eclipse[0].plot(robust=True, cmap=plt.cm.Blues_r,yincrease=False,ax=axes[0])\n",
    "eclipse[1].plot(robust=True, cmap=plt.cm.Blues_r,yincrease=False,ax=axes[1])\n",
    "eclipse[2].plot(robust=True, cmap=plt.cm.Blues_r,yincrease=False,ax=axes[2])\n",
    "eclipse[3].plot(robust=True, cmap=plt.cm.Blues_r,yincrease=False,ax=axes[3])"
   ]
  }
 ],
 "metadata": {
  "kernelspec": {
   "display_name": "Python 3",
   "language": "python",
   "name": "python3"
  },
  "language_info": {
   "codemirror_mode": {
    "name": "ipython",
    "version": 3
   },
   "file_extension": ".py",
   "mimetype": "text/x-python",
   "name": "python",
   "nbconvert_exporter": "python",
   "pygments_lexer": "ipython3",
   "version": "3.7.0"
  }
 },
 "nbformat": 4,
 "nbformat_minor": 2
}
