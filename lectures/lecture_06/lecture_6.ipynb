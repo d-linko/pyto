{
 "cells": [
  {
   "cell_type": "markdown",
   "metadata": {},
   "source": [
    "# Class 6: Functional Programming"
   ]
  },
  {
   "cell_type": "markdown",
   "metadata": {},
   "source": [
    "> Each function should perform one task."
   ]
  },
  {
   "cell_type": "markdown",
   "metadata": {},
   "source": [
    "__Programming Levels of abstraction:__\n",
    "\n",
    "- Procedural/Spaghetti Code (command after command)\n",
    "- Functions (block of code repeated for different scenarios)\n",
    "- Modules (.py file containing a group of functions)\n",
    "- Classes (group of functions and attributes/variables in a .py file)\n",
    "- Packages (.py files grouped together which each .py can contain classes or functions alone)"
   ]
  },
  {
   "cell_type": "markdown",
   "metadata": {},
   "source": [
    "### 6.1 Basic Structure\n",
    "\n",
    "---\n",
    "\n",
    "```python\n",
    "def function_name(arguments):\n",
    "    # Python code\n",
    "```\n",
    "\n",
    "__Note:__ There is no return statement, as it is optional."
   ]
  },
  {
   "cell_type": "code",
   "execution_count": null,
   "metadata": {},
   "outputs": [],
   "source": [
    "def sayhi(name):\n",
    "    print('Hi from {0}'.format(name.capitalize()))\n",
    "\n",
    "sayhi('bob')\n",
    "sayhi('jill')\n",
    "sayhi('mark')"
   ]
  },
  {
   "cell_type": "code",
   "execution_count": null,
   "metadata": {},
   "outputs": [],
   "source": [
    "def multiply_by_2(number):\n",
    "    return number*2\n",
    "\n",
    "a = 5\n",
    "b = a*2\n",
    "b = multiply_by_2(a)\n",
    "b = 'a string '\n",
    "\n",
    "multiply_by_2(a)\n",
    "multiply_by_2(b)"
   ]
  },
  {
   "cell_type": "markdown",
   "metadata": {},
   "source": [
    "Functions allow us to reuse code."
   ]
  },
  {
   "cell_type": "code",
   "execution_count": null,
   "metadata": {},
   "outputs": [],
   "source": [
    "def f(x):\n",
    "    # note the use of a return statement\n",
    "    return x * x\n",
    "\n",
    "print(f(3))\n",
    "print(f(3) + f(4))\n",
    "print(f(f(f(f(f(2))))))"
   ]
  },
  {
   "cell_type": "markdown",
   "metadata": {},
   "source": [
    "### 6.2 In-Class Exercise\n",
    "\n",
    "---\n",
    "\n",
    "1. Write a function that prints a string when called. If we don't call the function below the definition, does anything print?\n",
    "2. What happens if we try to call the function above the `def` line?\n",
    "3. What happens if we try to change an argument's value without passing it as an argument? I.e.,\n",
    "\n",
    "  ```python\n",
    "  x = 2\n",
    "  def my_func():\n",
    "      x = 6\n",
    "      \n",
    "  my_func()\n",
    "  print(x)\n",
    "  ```\n",
    "4. How might we re-write `my_func` to modify the value of `x`?"
   ]
  },
  {
   "cell_type": "markdown",
   "metadata": {},
   "source": [
    "### 6.3 Arguments\n",
    "\n",
    "---\n",
    "\n",
    "```python\n",
    "def function_name(positional_argument, keyword=argument, *args, **kwargs):\n",
    "    # positional_argument is now a variable\n",
    "    # keyword is a variable and contains the value of argument\n",
    "    # *args allows an arbitrary number of positional arguments (stored in args as a tuple)\n",
    "    # **kwargs allows an arbitrary number of keyword arguments (stored in kwargs as a dictionary)\n",
    "```"
   ]
  },
  {
   "cell_type": "code",
   "execution_count": null,
   "metadata": {},
   "outputs": [],
   "source": [
    "# positional arguments\n",
    "def func(number):\n",
    "    print(number)\n",
    "\n",
    "#func(1)\n",
    "#print('\\n')\n",
    "\n",
    "# keyword arguments\n",
    "def func(output=2):\n",
    "    print(output)\n",
    "\n",
    "#func()\n",
    "#func(output=5)\n",
    "#print('\\n')\n",
    "\n",
    "# arbitrary number of positional arguments\n",
    "def func(*args):\n",
    "    for number in args:\n",
    "        print(number)\n",
    "\n",
    "#func(1,2,3,4,5)\n",
    "#print('\\n')\n",
    "\n",
    "# arbitrary number of keyword arguments\n",
    "def func(**kwargs):\n",
    "    for key, value in kwargs.items():\n",
    "        print('%s: %s' % (key, value))\n",
    "\n",
    "#func(students=5, average=90, period=2)"
   ]
  },
  {
   "cell_type": "markdown",
   "metadata": {},
   "source": [
    "__Default Keyword Arguments:__"
   ]
  },
  {
   "cell_type": "code",
   "execution_count": null,
   "metadata": {},
   "outputs": [],
   "source": [
    "def f(x=1):\n",
    "    return x**2\n",
    "\n",
    "print(f())\n",
    "print(f(5))\n",
    "print(f(x=27))"
   ]
  },
  {
   "cell_type": "markdown",
   "metadata": {},
   "source": [
    "There is SO much more for functions that you can do:\n",
    "\n",
    "- Call a function from within a function.\n",
    "- Perform batch operations upon files/data.\n",
    "- Organize your code into parts/sections."
   ]
  }
 ],
 "metadata": {
  "kernelspec": {
   "display_name": "Python 3",
   "language": "python",
   "name": "python3"
  },
  "language_info": {
   "codemirror_mode": {
    "name": "ipython",
    "version": 3
   },
   "file_extension": ".py",
   "mimetype": "text/x-python",
   "name": "python",
   "nbconvert_exporter": "python",
   "pygments_lexer": "ipython3",
   "version": "3.7.0"
  }
 },
 "nbformat": 4,
 "nbformat_minor": 2
}
