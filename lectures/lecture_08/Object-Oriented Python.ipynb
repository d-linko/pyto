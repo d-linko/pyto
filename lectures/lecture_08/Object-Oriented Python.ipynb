{
 "cells": [
  {
   "cell_type": "markdown",
   "metadata": {},
   "source": [
    "# Python Class - Fall 2018\n",
    "\n",
    "---\n",
    "\n",
    "Object-Oriented Programming in Python"
   ]
  },
  {
   "cell_type": "markdown",
   "metadata": {},
   "source": [
    "# The _`object`_\n",
    "\n",
    "---\n",
    "\n",
    "* The object is a base \"thing\" for every single variable, data type, function, whatever in your code.\n",
    "  > Everything in Python is an object.\n",
    "* We create objects from class constructors. We instantiate (or initialize, start, create) a class by calling the class."
   ]
  },
  {
   "cell_type": "code",
   "execution_count": 1,
   "metadata": {},
   "outputs": [
    {
     "name": "stdout",
     "output_type": "stream",
     "text": [
      "Help on class object in module builtins:\n",
      "\n",
      "class object\n",
      " |  The most base type\n",
      "\n"
     ]
    }
   ],
   "source": [
    "help(object)"
   ]
  },
  {
   "cell_type": "markdown",
   "metadata": {},
   "source": [
    "Remember the levels of abstraction from the last lecture? Objects/classes (used interchangeably) are a level higher of abstraction than functions. Object have methods (i.e., functions; also called proceedures) and attributes (i.e., variables) that are associated to either all instances of that object (all of one type) or a particular instance (a single item)."
   ]
  },
  {
   "cell_type": "markdown",
   "metadata": {},
   "source": [
    "# The _`class`_\n",
    "\n",
    "---\n",
    "\n",
    "We are able to define our own objects in Python by using the `class` definition. These are called _user-defined objects_ in which we are creating a new structure."
   ]
  },
  {
   "cell_type": "code",
   "execution_count": null,
   "metadata": {
    "collapsed": true
   },
   "outputs": [],
   "source": [
    "class MyObject(object):\n",
    "    pass"
   ]
  },
  {
   "cell_type": "markdown",
   "metadata": {},
   "source": [
    "Notice there is no _`def`_ here and we are creating a class that is based off of the most basic _`object`_."
   ]
  },
  {
   "cell_type": "markdown",
   "metadata": {},
   "source": [
    "# Class Definition Style\n",
    "\n",
    "---\n",
    "\n",
    "__Python 3.x:__  \n",
    "class MyClass(object): = new-style class  \n",
    "class MyClass: = new-style class (implicitly inherits from object)\n",
    "\n",
    "__Python 2.x:__  \n",
    "class MyClass(object): = new-style class  \n",
    "class MyClass: = OLD-STYLE CLASS (doesn't inherit from object)\n",
    "\n",
    "[Source](http://stackoverflow.com/a/9448136)"
   ]
  },
  {
   "cell_type": "code",
   "execution_count": null,
   "metadata": {},
   "outputs": [],
   "source": [
    "# let's see the different between the two versions\n",
    "class MyObject:\n",
    "    pass\n",
    "\n",
    "mo = MyObject()\n",
    "\n",
    "print(type(mo))"
   ]
  },
  {
   "cell_type": "markdown",
   "metadata": {},
   "source": [
    "Here, _`MyObject`_ defines the blueprint for all of the instances of that object. So, _`mo`_ is an instance of _`MyObject`_ that will contain the structure of that class."
   ]
  },
  {
   "cell_type": "markdown",
   "metadata": {},
   "source": [
    "# Quick Exercise:\n",
    "\n",
    "---\n",
    "\n",
    "Create a new object called __Animal__ and create a dog and cat instance from this single class."
   ]
  },
  {
   "cell_type": "markdown",
   "metadata": {},
   "source": [
    "# Instances vs. Classes\n",
    "\n",
    "---\n",
    "\n",
    "An instance uses the object blueprint/structure as its base. We can change an instance's attributes or methods to be specific to that instance. Like in the exercise above, we could define a method of _`speak`_ in which for the dog instance, this method would return `Bark!` and for the cat instance it would return `Meow!`. Here we have given more specifics to each instance, but are still using the single method _`speak`_."
   ]
  },
  {
   "cell_type": "code",
   "execution_count": null,
   "metadata": {
    "collapsed": true
   },
   "outputs": [],
   "source": [
    "class Animal(object):\n",
    "    def speak(self, string):\n",
    "        print(string)\n",
    "        \n",
    "doug_the_pug = Animal()\n",
    "grumpy_cat = Animal()\n",
    "\n",
    "doug_the_pug.speak('Bark!')\n",
    "grumpy_cat.speak('No.')"
   ]
  },
  {
   "cell_type": "markdown",
   "metadata": {},
   "source": [
    "# Attributes\n",
    "\n",
    "---\n",
    "\n",
    "Inside a class, we define attributes which behave like characteristics of that object."
   ]
  },
  {
   "cell_type": "code",
   "execution_count": null,
   "metadata": {},
   "outputs": [],
   "source": [
    "class Animal(object):\n",
    "    sound = 'Bark!'\n",
    "    \n",
    "    def __init__(self, name):\n",
    "        self.name = name\n",
    "\n",
    "puppy = Animal('Doug the Pug')\n",
    "cat = Animal('Grumpy Cat')\n",
    "\n",
    "print(puppy.name)\n",
    "print(cat.name)\n",
    "print(puppy.sound)\n",
    "print(cat.sound)\n",
    "\n",
    "cat.sound = 'No.'\n",
    "print(puppy.sound)\n",
    "print(cat.sound)\n",
    "\n",
    "Animal.sound = 'Boo.'\n",
    "print(puppy.sound)\n",
    "print(cat.sound)"
   ]
  },
  {
   "cell_type": "markdown",
   "metadata": {},
   "source": [
    "Each method (here, _`__init__`_) begins with a reference to the instance object. Most frequently, _`self`_ is used, but it can be _`this`_ or whatever we choose.\n",
    "\n",
    "Attributes not found in a method are tied to the object itself which we see here that the _sound_ attribute is shared by both the _puppy_ and _cat_ instances. The particular value of this attribute is still associated with each individual instance, but if we were to change it using the class, the value would change for all instances of that class.\n",
    "\n",
    "We also can set attributes dynamically as well:"
   ]
  },
  {
   "cell_type": "code",
   "execution_count": null,
   "metadata": {},
   "outputs": [],
   "source": [
    "class Student(object):\n",
    "    pass\n",
    "\n",
    "d = Student()\n",
    "d.name = 'Betty'\n",
    "print(d.name)"
   ]
  },
  {
   "cell_type": "markdown",
   "metadata": {},
   "source": [
    "# Methods\n",
    "\n",
    "---\n",
    "\n",
    "Also inside a class, we define methods (functions), but contained in a class. These usually interact with or modify our attributes."
   ]
  },
  {
   "cell_type": "code",
   "execution_count": null,
   "metadata": {
    "collapsed": true
   },
   "outputs": [],
   "source": [
    "import numpy as np\n",
    "\n",
    "class Circle(object):\n",
    "    def __init__(self, radius=1):\n",
    "        self.radius = radius\n",
    "    \n",
    "    def area(self):\n",
    "        return (self.radius**2) * np.pi\n",
    "    \n",
    "    def getRadius(self):\n",
    "        return self.radius\n",
    "    \n",
    "    def setRadius(self, radius):\n",
    "        self.radius = radius\n",
    "\n",
    "c = Circle()\n",
    "print(c.getRadius())\n",
    "print(c.area())\n",
    "c.setRadius(5)\n",
    "print(c.getRadius())\n",
    "print(c.area())"
   ]
  },
  {
   "cell_type": "markdown",
   "metadata": {},
   "source": [
    "_`area`_, _`getRadius`_, _`setRadius`_ are all methods that interact with the _`radius`_ attribute. _`__init__`_ here is actually called a _magic method_. Those are special that aren't called directly, but used in context. Let's add another magic method to this class:"
   ]
  },
  {
   "cell_type": "code",
   "execution_count": null,
   "metadata": {
    "collapsed": true
   },
   "outputs": [],
   "source": [
    "import numpy as np\n",
    "\n",
    "class Circle(object):\n",
    "    def __init__(self, radius=1):\n",
    "        self.radius = radius\n",
    "    \n",
    "    def area(self):\n",
    "        return (self.radius**2) * np.pi\n",
    "    \n",
    "    def getRadius(self):\n",
    "        return self.radius\n",
    "    \n",
    "    def setRadius(self, radius):\n",
    "        self.radius = radius\n",
    "    \n",
    "    def __str__(self):\n",
    "        return 'I am a circle of radius %d' % int(self.radius)\n",
    "\n",
    "c = Circle(6)\n",
    "print(c)"
   ]
  },
  {
   "cell_type": "markdown",
   "metadata": {},
   "source": [
    "# Inheritance\n",
    "\n",
    "---\n",
    "\n",
    "Inheritance is for the basis of reusable code. A child/sub class can inherit from a parent class."
   ]
  },
  {
   "cell_type": "code",
   "execution_count": null,
   "metadata": {
    "collapsed": true
   },
   "outputs": [],
   "source": [
    "class Animal(object):\n",
    "    def set_owner(self, name=''):\n",
    "        self.owner = name\n",
    "    \n",
    "    def get_owner(self):\n",
    "        return self.owner\n",
    "\n",
    "class Dog(Animal):\n",
    "    pass\n",
    "\n",
    "# Hi there!\n",
    "doug = Dog()\n",
    "doug.set_owner('Me')\n",
    "doug.get_owner()"
   ]
  },
  {
   "cell_type": "code",
   "execution_count": null,
   "metadata": {
    "collapsed": true
   },
   "outputs": [],
   "source": [
    "print(Dog.__bases__)"
   ]
  },
  {
   "cell_type": "markdown",
   "metadata": {},
   "source": [
    "# Overloading / Polymorphism\n",
    "\n",
    "---\n",
    "\n",
    "If we want a child class to behave differently than the parent, then we write the same method in the child class with the new behavior."
   ]
  },
  {
   "cell_type": "code",
   "execution_count": null,
   "metadata": {
    "collapsed": true
   },
   "outputs": [],
   "source": [
    "class Animal(object):\n",
    "    def set_owner(self, name=''):\n",
    "        self.owner = name\n",
    "    \n",
    "    def get_owner(self):\n",
    "        return self.owner\n",
    "\n",
    "class Dog(Animal):\n",
    "    def get_owner(self):\n",
    "        return self.owner + ', Hi there!'\n",
    "\n",
    "# Hi there!\n",
    "doug = Dog()\n",
    "doug.set_owner('Me')\n",
    "doug.get_owner()"
   ]
  }
 ],
 "metadata": {
  "kernelspec": {
   "display_name": "Python 3",
   "language": "python",
   "name": "python3"
  },
  "language_info": {
   "codemirror_mode": {
    "name": "ipython",
    "version": 3
   },
   "file_extension": ".py",
   "mimetype": "text/x-python",
   "name": "python",
   "nbconvert_exporter": "python",
   "pygments_lexer": "ipython3",
   "version": "3.7.0"
  }
 },
 "nbformat": 4,
 "nbformat_minor": 2
}
